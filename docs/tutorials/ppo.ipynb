{
  "nbformat": 4,
  "nbformat_minor": 0,
  "metadata": {
    "colab": {
      "name": "ppo.ipynb",
      "provenance": [],
      "collapsed_sections": []
    },
    "kernelspec": {
      "name": "python3",
      "display_name": "Python 3"
    },
    "accelerator": "GPU"
  },
  "cells": [
    {
      "cell_type": "markdown",
      "metadata": {
        "id": "oIDlkuy6TvxO"
      },
      "source": [
        "# Learning a scheduler with Stable Baselines and PPO\n",
        "\n",
        "[![Open In Colab](https://colab.research.google.com/assets/colab-badge.svg)](https://colab.research.google.com/github/renatolfc/sched-rl-gym/blob/master/docs/tutorials/ppo.ipynb)\n",
        "\n",
        "In this tutorial we're going to use [sched-rl-gym](https://github.com/renatolfc/sched-rl-gym) to train an agent that's able to schedule jobs as discussed in the paper. If you want to follow along the tutorial, just click the \"Open in Colab\" badge above and you be redirected to an interactive notebook created just for you. 🤩\n",
        "\n",
        "## Preliminaries\n",
        "\n",
        "The first step is to install the environment with all its dependencies with the following command (some time in the future we'll add the project to the PyPI, making the command a lot smaller):"
      ]
    },
    {
      "cell_type": "code",
      "metadata": {
        "id": "drO4silhTWtn"
      },
      "source": [
        "%%capture\n",
        "\n",
        "!git clone https://github.com/renatolfc/sched-rl-gym\n",
        "!cd sched-rl-gym ; pip install -e '.[all]'\n",
        "!ln -sf sched-rl-gym/schedgym"
      ],
      "execution_count": null,
      "outputs": []
    },
    {
      "cell_type": "markdown",
      "metadata": {
        "id": "D1mnJMx5101f"
      },
      "source": [
        "Now, in some initial versions of the environment, we used some `__future__` annotations that the Google Colab environment did not support. Therefore, we have to perform a cleanup before continuing.\n",
        "\n",
        "This should not be necessary on Python >= 3.7..."
      ]
    },
    {
      "cell_type": "code",
      "metadata": {
        "id": "0WD097Rgt9z6"
      },
      "source": [
        "!find schedgym/ -type f -exec sed -i '/__future__/d' {} \\;"
      ],
      "execution_count": null,
      "outputs": []
    },
    {
      "cell_type": "markdown",
      "metadata": {
        "id": "ZeI1Ofs0UtTl"
      },
      "source": [
        "Now we need to install [stable-baselines](https://stable-baselines.readthedocs.io/), which is going to allow us to train an agent:"
      ]
    },
    {
      "cell_type": "code",
      "metadata": {
        "id": "zghKBPYbTeRg"
      },
      "source": [
        "%%capture\n",
        "\n",
        "!pip install tensorflow==1.15\n",
        "!pip install stable-baselines"
      ],
      "execution_count": null,
      "outputs": []
    },
    {
      "cell_type": "markdown",
      "metadata": {
        "id": "jGDvKw5XVD8E"
      },
      "source": [
        "That's it for all dependencies. What we need now is to:\n",
        " * Import the environment so that it can be registered with [OpenAI Gym](https://gym.openai.com)\n",
        " * Import stable-baselines to learn our agent\n",
        "\n",
        "We're also importing some other modules to interact with the filesystem and to help us compute some basic statistics..."
      ]
    },
    {
      "cell_type": "code",
      "metadata": {
        "id": "PFND3Uq-U6iY"
      },
      "source": [
        "%%capture\n",
        "\n",
        "import os\n",
        "import gym\n",
        "import numpy as np\n",
        "import pandas as pd\n",
        "import schedgym.envs as deeprm\n",
        "import schedgym.envs.base as base\n",
        "\n",
        "from stable_baselines import PPO2 as PPO\n",
        "from stable_baselines.common.vec_env import DummyVecEnv\n",
        "from stable_baselines.common.policies import FeedForwardPolicy"
      ],
      "execution_count": null,
      "outputs": []
    },
    {
      "cell_type": "markdown",
      "metadata": {
        "id": "gzfS5kGI2LdF"
      },
      "source": [
        "We're going to define some variables to match those of the paper. They are:\n",
        " * `SLOTS`: The number of job slots to choose from (the number of actions - 1 the agent can perform)\n",
        " * `BACKLOG`: The number of jobs we represent outside the job slots (this should be a multiple of the `TIME_HORIZON`, defined below)\n",
        " * `TIME_LIMIT`: The number of RL time steps before finishing an episode\n",
        " * The default workload in the environment creates a new job with probability 0.7. The experiments in the paper were performed with probability 0.3. So we copy the default workload and define the new probability"
      ]
    },
    {
      "cell_type": "code",
      "metadata": {
        "id": "1fKUBSUYVigG"
      },
      "source": [
        "SLOTS: int = 10\n",
        "BACKLOG: int = 60\n",
        "TIME_LIMIT: int = 50\n",
        "TIME_HORIZON: int = 20\n",
        "\n",
        "workload = base.DEFAULT_WORKLOAD.copy()\n",
        "workload['new_job_rate'] = .3"
      ],
      "execution_count": null,
      "outputs": []
    },
    {
      "cell_type": "markdown",
      "metadata": {
        "id": "b2oXzOnr29xe"
      },
      "source": [
        "And since we're *not* using the default arguments, we're going to define a helper function to create new environments for us."
      ]
    },
    {
      "cell_type": "code",
      "metadata": {
        "id": "gmj9-QWHVusm"
      },
      "source": [
        "def setup_environment(envname, workload=None) -> deeprm.DeepRmEnv:\n",
        "    kwargs = {\n",
        "        'job_slots': SLOTS,\n",
        "        'time_limit': TIME_LIMIT,\n",
        "        'backlog_size': BACKLOG,\n",
        "        'time_horizon': TIME_HORIZON,\n",
        "        'use_raw_state': False,\n",
        "    }\n",
        "    if workload is not None:\n",
        "        kwargs['workload'] = workload\n",
        "    env: deeprm.DeepRmEnv = gym.make(\n",
        "        envname, **kwargs\n",
        "    )\n",
        "    env.reset()\n",
        "\n",
        "    return env"
      ],
      "execution_count": null,
      "outputs": []
    },
    {
      "cell_type": "markdown",
      "metadata": {
        "id": "KX2fyDyK3IYf"
      },
      "source": [
        "Now, the default PPO implementation in stable baselines uses a two-layer MLP with 64 nodes each, but we're using 20 nodes, so we define a custom policy network to train our agent.\n",
        "\n",
        "In the code below, `pi` corresponds to the policy network, while `vf` corresponds to the value function that is used as baseline function."
      ]
    },
    {
      "cell_type": "code",
      "metadata": {
        "id": "TaoOAU0zvfQA"
      },
      "source": [
        "class CustomPolicy(FeedForwardPolicy):\n",
        "    def __init__(self, *args, **kwargs):\n",
        "        super(CustomPolicy, self).__init__(*args, **kwargs,\n",
        "                                           net_arch=[dict(pi=[20],\n",
        "                                                          vf=[20])],\n",
        "                                           feature_extraction=\"mlp\")"
      ],
      "execution_count": null,
      "outputs": []
    },
    {
      "cell_type": "markdown",
      "metadata": {
        "id": "ECZvQvRj31O3"
      },
      "source": [
        "With all that, we can instantiate our learner."
      ]
    },
    {
      "cell_type": "code",
      "metadata": {
        "id": "a36QRpdW37L9"
      },
      "source": [
        "env = setup_environment('DeepRM-v0', workload)\n",
        "env = DummyVecEnv([lambda: env])\n",
        "model = PPO(CustomPolicy, env, verbose=1,\n",
        "            learning_rate=5e-4, ent_coef=0.01)"
      ],
      "execution_count": null,
      "outputs": []
    },
    {
      "cell_type": "markdown",
      "metadata": {
        "id": "cJqMHoxS3hRJ"
      },
      "source": [
        "With all these definitions, we can now run our training loop.\n",
        "\n",
        "The experiments in the paper ran for 1000 epochs, but that'd take too much time, so we're going to limit ourselves to a hundred.\n",
        "\n",
        "You will notice that we define an epoch as 10000 time steps. This is equivalent to the number of interactions with the environment DeepRM counts as one epoch.\n",
        "\n",
        "After each epoch, we save a snapshot of the model so that we can evaluate its performance. We should see ever improving, albeit noisy, performance."
      ]
    },
    {
      "cell_type": "code",
      "metadata": {
        "id": "9tct5pOCx8hh",
        "outputId": "78cc09b1-1446-4edb-9777-a49c0823497f",
        "colab": {
          "base_uri": "https://localhost:8080/"
        }
      },
      "source": [
        "total_epochs = 250\n",
        "timesteps_in_epoch = 1000\n",
        "for i in range(total_epochs):\n",
        "    print(f'\\rRunning training epoch: {i}/{total_epochs}', end='')\n",
        "    model.learn(total_timesteps=timesteps_in_epoch,\n",
        "                reset_num_timesteps=(i == 0),\n",
        "                log_interval=150)\n",
        "    model.save(f'ppo_deeprm-{i}')\n",
        "\n",
        "model.save('ppo_deeprm')"
      ],
      "execution_count": null,
      "outputs": [
        {
          "output_type": "stream",
          "text": [
            "Running training epoch: 249/250"
          ],
          "name": "stdout"
        }
      ]
    },
    {
      "cell_type": "markdown",
      "metadata": {
        "id": "sER9LxbJHBbJ"
      },
      "source": [
        "So now we have all intermediate sets of parameters. Nice!\n",
        "\n",
        "How can we evaluate them? Well, since the environment is stochastic, we will have to use Monte Carlo to approximate the agent performance. So, let us assume we use 30 independent samples (we used 60 in the paper) and report the average performance, alongside the standard deviation.\n",
        "\n",
        "We will also be (hard) limiting an episode to last for 200 time steps. In practice, they will terminate earlier due to the nature of our environment."
      ]
    },
    {
      "cell_type": "markdown",
      "metadata": {
        "id": "--te_M9f8oK7"
      },
      "source": [
        "Before evaluating our environment, we need a few helper functions, as well as code for plotting. In the following cell, we import `matplotlib` to generate our graphs:"
      ]
    },
    {
      "cell_type": "code",
      "metadata": {
        "id": "BjhsVqbQG-4K"
      },
      "source": [
        "%matplotlib inline\n",
        "import matplotlib as mpl\n",
        "import matplotlib.pyplot as plt\n",
        "\n",
        "mpl.style.use('bmh')  # Bayesian Methods for Hackers"
      ],
      "execution_count": null,
      "outputs": []
    },
    {
      "cell_type": "markdown",
      "metadata": {
        "id": "Qp5IpIdZDS5-"
      },
      "source": [
        "Now we define a function that, given a vector of rewards $\\langle r_1, r_2, \\ldots\\rangle$, gives us a vector $\\langle G_1=\\sum_{i=1}^{T}\\gamma^{i-1}r_i, G_2=\\sum_{i=2}^{T}\\gamma^{i-1}r_i, \\ldots \\rangle$, which will give us the sum of discounted rewards for all time steps encountered by the agent:"
      ]
    },
    {
      "cell_type": "code",
      "metadata": {
        "id": "MoGPQk6vIBJl"
      },
      "source": [
        "def discount(x, gamma):\n",
        "    \"\"\"Returns discounted returns for all time steps in an episode.\n",
        "    \n",
        "    Given vector x, computes a vector y such that\n",
        "    y[i] = x[i] + gamma * x[i+1] + gamma^2 x[i+2] + ...\n",
        "    \"\"\"\n",
        "    out = np.zeros(len(x))\n",
        "    out[-1] = x[-1]\n",
        "    for i in reversed(list(range(len(x)-1))):\n",
        "        out[i] = x[i] + gamma*out[i+1]\n",
        "    return out"
      ],
      "execution_count": null,
      "outputs": []
    },
    {
      "cell_type": "markdown",
      "metadata": {
        "id": "7mo-7easEAVR"
      },
      "source": [
        "We also need the code that will instantiate the environment and evaluate the agent in such an environment. In this specific case, we gather a single trajectory, and compute the sum of rewards, the mean slowdown, the discounted sum of rewards for the first time step, and the mean reward for a single trajectory:"
      ]
    },
    {
      "cell_type": "code",
      "metadata": {
        "id": "q3s8pk7XD8XZ"
      },
      "source": [
        "def run_baselines_model(args):\n",
        "    env, model, i, raw, workload = args\n",
        "    env = setup_environment(env, workload=workload)\n",
        "    env.use_raw_state = raw\n",
        "    np.random.seed(i)\n",
        "    rewards = []\n",
        "    state = env.reset()\n",
        "    for _ in range(200):\n",
        "        action, _ = model.predict(state, deterministic=True)\n",
        "        state, reward, done, _ = env.step(action)\n",
        "        rewards.append(reward)\n",
        "        if done:\n",
        "            break\n",
        "    mean_slowdown = np.mean([\n",
        "          1 + 1 / j.execution_time * (\n",
        "              (j.start_time - j.submission_time)\n",
        "              if j.start_time != -1\n",
        "              else (env.scheduler.current_time - j.submission_time)\n",
        "          )\n",
        "          for j in env.scheduler.all_jobs\n",
        "    ])\n",
        "    return np.sum(rewards), mean_slowdown, discount(rewards, 0.99)[0],\\\n",
        "           np.mean(rewards)"
      ],
      "execution_count": null,
      "outputs": []
    },
    {
      "cell_type": "markdown",
      "metadata": {
        "id": "hWjuZaQSEcKq"
      },
      "source": [
        "Finally, with the two functions defined above, we can write code that evaluates the agent. In this particular case, the evaluation function takes a _class_ instance, an environment name, and a policy checkpoint file name template to evaluate an agent for `total_epochs` in a set of `runs` independent runs."
      ]
    },
    {
      "cell_type": "code",
      "metadata": {
        "id": "OrfWRejCEcqs"
      },
      "source": [
        "from IPython.utils import io\n",
        "\n",
        "def evaluate(model_class, env, template, runs=30, total_epochs=total_epochs):\n",
        "  rewards, slowdowns, returns, means = [], [], [], []\n",
        "  for i in range(total_epochs):\n",
        "    print(f'\\rEvaluating epoch {i}/{total_epochs}', end='')\n",
        "    with io.capture_output():\n",
        "      model = model_class.load(template.format(i))\n",
        "    reward, slowdown, ret, mean = zip(\n",
        "      *[run_baselines_model((env, model, j, False, workload))\n",
        "        for j in range(runs)]\n",
        "    )\n",
        "    rewards.append(reward)\n",
        "    slowdowns.append(slowdown)\n",
        "    returns.append(ret)\n",
        "    means.append(mean)\n",
        "  return rewards, slowdowns, returns, means"
      ],
      "execution_count": null,
      "outputs": []
    },
    {
      "cell_type": "markdown",
      "metadata": {
        "id": "pKQnkFD6E47r"
      },
      "source": [
        "Finally, with all the above definitions, we can run our agent and evaluate it with a single call to `evaluate`:"
      ]
    },
    {
      "cell_type": "code",
      "metadata": {
        "id": "3olr7LNNIlVn",
        "outputId": "835325cd-6c2e-4c92-af63-4befef3f171e",
        "colab": {
          "base_uri": "https://localhost:8080/"
        }
      },
      "source": [
        "rewards, slowdowns, returns, means = evaluate(\n",
        "    PPO, 'DeepRM-v0', 'ppo_deeprm-{}', 60\n",
        ")"
      ],
      "execution_count": null,
      "outputs": [
        {
          "output_type": "stream",
          "text": [
            "Evaluating epoch 249/250"
          ],
          "name": "stdout"
        }
      ]
    },
    {
      "cell_type": "markdown",
      "metadata": {
        "id": "NqV5KzSPKBqG"
      },
      "source": [
        "With everything executed, we can investigate how our agent fared in the evaluation runs."
      ]
    },
    {
      "cell_type": "code",
      "metadata": {
        "id": "_PBmZHOHLHeR",
        "outputId": "308f0d7f-e7ab-4486-f5cb-08edf1c01913",
        "colab": {
          "base_uri": "https://localhost:8080/",
          "height": 297
        }
      },
      "source": [
        "df = pd.DataFrame({\n",
        "  'mean': [np.mean(r) for r in returns],\n",
        "  'std': [np.std(r) for r in returns]\n",
        "})\n",
        "\n",
        "fig, ax = plt.subplots()\n",
        "\n",
        "y = df['mean'].rolling(window=10).mean()\n",
        "yerror = df['std'].rolling(window=10).mean()\n",
        "x = y.index\n",
        "\n",
        "ax.plot(x, y)\n",
        "ax.fill_between(x, y - yerror, y + yerror, alpha=.5)\n",
        "ax.set_ylabel('Average discounted returns')\n",
        "ax.set_xlabel('Iteration')\n",
        "plt.tight_layout()\n",
        "plt.show()"
      ],
      "execution_count": null,
      "outputs": [
        {
          "output_type": "display_data",
          "data": {
            "image/png": "[encoded data removed]",
            "text/plain": [
              "<Figure size 432x288 with 1 Axes>"
            ]
          },
          "metadata": {
            "tags": [],
            "needs_background": "light"
          }
        }
      ]
    },
    {
      "cell_type": "code",
      "metadata": {
        "id": "S4zO2PVbJM4I",
        "outputId": "85c90860-5330-4a73-8131-5df236ec0eb1",
        "colab": {
          "base_uri": "https://localhost:8080/",
          "height": 297
        }
      },
      "source": [
        "df = pd.DataFrame({\n",
        "  'mean': [np.mean(s) for s in slowdowns],\n",
        "  'std': [np.std(s) for s in slowdowns]\n",
        "})\n",
        "\n",
        "fig, ax = plt.subplots()\n",
        "\n",
        "y = df['mean'].rolling(window=10).mean()\n",
        "yerror = df['std'].rolling(window=10).mean()\n",
        "x = y.index\n",
        "\n",
        "ax.plot(x, y)\n",
        "ax.fill_between(x, y - yerror, y + yerror, alpha=.5)\n",
        "ax.set_ylabel('Average Slowdown')\n",
        "ax.set_xlabel('Iteration')\n",
        "plt.tight_layout()\n",
        "plt.show()"
      ],
      "execution_count": null,
      "outputs": [
        {
          "output_type": "display_data",
          "data": {
            "image/png": "[encoded data removed]",
            "text/plain": [
              "<Figure size 432x288 with 1 Axes>"
            ]
          },
          "metadata": {
            "tags": [],
            "needs_background": "light"
          }
        }
      ]
    }
  ]
}
